{
 "cells": [
  {
   "cell_type": "code",
   "execution_count": 1,
   "metadata": {},
   "outputs": [
    {
     "name": "stderr",
     "output_type": "stream",
     "text": [
      "/home/chenwu2/anaconda3/envs/arena/lib/python3.10/site-packages/tqdm/auto.py:21: TqdmWarning: IProgress not found. Please update jupyter and ipywidgets. See https://ipywidgets.readthedocs.io/en/stable/user_install.html\n",
      "  from .autonotebook import tqdm as notebook_tqdm\n"
     ]
    }
   ],
   "source": [
    "import json\n",
    "import numpy as np\n",
    "import random\n",
    "from tqdm.auto import tqdm\n",
    "import itertools\n",
    "import os\n",
    "from copy import deepcopy\n",
    "import matplotlib.pyplot as plt\n",
    "from collections import defaultdict\n",
    "import string\n",
    "import shutil\n"
   ]
  },
  {
   "cell_type": "code",
   "execution_count": 2,
   "metadata": {},
   "outputs": [],
   "source": [
    "def complete(s):\n",
    "    if not s.endswith(\">\"):\n",
    "        s = s + \">\"\n",
    "    if not s.startswith(\"<\"):\n",
    "        s = \"<\" + s\n",
    "    return s"
   ]
  },
  {
   "cell_type": "code",
   "execution_count": 3,
   "metadata": {},
   "outputs": [],
   "source": [
    "DATA_ROOT = \"/data/locus/project_data/project_data2/chenwu2/creativity_data\""
   ]
  },
  {
   "cell_type": "code",
   "execution_count": 4,
   "metadata": {},
   "outputs": [],
   "source": [
    "HASH_STR_LEN = 10"
   ]
  },
  {
   "cell_type": "code",
   "execution_count": 5,
   "metadata": {},
   "outputs": [],
   "source": [
    "pad_token = \"<|endoftext|>\""
   ]
  },
  {
   "cell_type": "code",
   "execution_count": 6,
   "metadata": {},
   "outputs": [],
   "source": [
    "# downsampling train_inferred\n",
    "base_dataset_name = \"triangle.{}\".format(HASH_STR_LEN)\n",
    "dataset_name = \"triangle_hybrid.{}\".format(HASH_STR_LEN)\n",
    "# Copy the base dataset to the new dataset\n",
    "shutil.copytree(os.path.join(DATA_ROOT, base_dataset_name), os.path.join(DATA_ROOT, dataset_name))\n",
    "\n",
    "train_sequences = json.load(open(os.path.join(DATA_ROOT, base_dataset_name, \"train.json\"), \"r\", encoding='utf-8'))\n",
    "# Add the hybrid data to the train_sequences\n",
    "hybrid_sequences = []\n",
    "for train_sequence in train_sequences:\n",
    "    input_text = train_sequence[\"input_text\"]\n",
    "    target_text = train_sequence[\"target_text\"]\n",
    "    ntp_sequence = {\n",
    "        \"input_text\": input_text,\n",
    "        \"target_text\": target_text,\n",
    "        \"target_labels\": target_text,\n",
    "    }\n",
    "    hybrid_sequences.append(ntp_sequence)\n",
    "    if \"tri:\" in input_text and random.random() < 0.5:\n",
    "        mtp_sequence = {\n",
    "            \"input_text\": input_text,\n",
    "            \"target_text\": input_text + pad_token * 9,\n",
    "            \"target_labels\": target_text\n",
    "        }\n",
    "        hybrid_sequences.append(mtp_sequence)\n",
    "    \n",
    "with open(os.path.join(DATA_ROOT, dataset_name, \"train.json\"), \"w\", encoding='utf-8') as f:\n",
    "    json.dump(hybrid_sequences, f)"
   ]
  }
 ],
 "metadata": {
  "kernelspec": {
   "display_name": "arena",
   "language": "python",
   "name": "python3"
  },
  "language_info": {
   "codemirror_mode": {
    "name": "ipython",
    "version": 3
   },
   "file_extension": ".py",
   "mimetype": "text/x-python",
   "name": "python",
   "nbconvert_exporter": "python",
   "pygments_lexer": "ipython3",
   "version": "3.10.14"
  }
 },
 "nbformat": 4,
 "nbformat_minor": 2
}
